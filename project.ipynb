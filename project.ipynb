{
 "cells": [
  {
   "cell_type": "markdown",
   "id": "124e5672",
   "metadata": {},
   "source": [
    "# Custom Chatbot Project"
   ]
  },
  {
   "cell_type": "markdown",
   "id": "2a4a94b3",
   "metadata": {},
   "source": [
    "I selected the Food_Scrap_Drop-Off_Locations_in_NYC.csv dataset because it contains real-world, location-specific information that cannot be easily inferred by the base OpenAI model. The chatbot will act as a “NYC Composting Assistant,” helping users find Locations where NYC residents can drop off their food scraps to be composted."
   ]
  },
  {
   "cell_type": "markdown",
   "id": "a63d4c5f",
   "metadata": {},
   "source": [
    "## Data Wrangling\n",
    "\n",
    "TODO: In the cells below, load your chosen dataset into a `pandas` dataframe with a column named `\"text\"`. This column should contain all of your text data, separated into at least 20 rows."
   ]
  },
  {
   "cell_type": "code",
   "execution_count": 49,
   "id": "c69b83a1",
   "metadata": {},
   "outputs": [],
   "source": [
    "import pandas as pd"
   ]
  },
  {
   "cell_type": "code",
   "execution_count": 50,
   "id": "0a595980",
   "metadata": {},
   "outputs": [
    {
     "name": "stdout",
     "output_type": "stream",
     "text": [
      "     Borough                  NTAName  \\\n",
      "0   Brooklyn                Bay Ridge   \n",
      "1  Manhattan  East Midtown-Turtle Bay   \n",
      "2  Manhattan           Hell's Kitchen   \n",
      "3  Manhattan  East Midtown-Turtle Bay   \n",
      "4  Manhattan     Tribeca-Civic Center   \n",
      "\n",
      "                                     SiteName  \\\n",
      "0              4th Avenue Presbyterian Church   \n",
      "1          Dag Hammarskjold Plaza Greenmarket   \n",
      "2  Hudson River Park's Pier 84 at W. 44th St.   \n",
      "3                    58th Street Library FSDO   \n",
      "4                         Tribeca Greenmarket   \n",
      "\n",
      "                               SiteAddr                       Hosted_By  \\\n",
      "0   6753 4th Avenue, Brooklyn, NY 11220  4th Avenue Presbyterian Church   \n",
      "1                   E 47th St & 2nd Ave                         GrowNYC   \n",
      "2  Pier 84 at W. 44th St. near dog park      Staff at Hudson River Park   \n",
      "3                  127 East 58th Street                         GrowNYC   \n",
      "4              Greenwich St. & Duane St                         GrowNYC   \n",
      "\n",
      "   Open_Month                                          Day_Hours  \\\n",
      "0  Year Round     Every day (Start Time: Dawn - End Time:  Dusk)   \n",
      "1  Year Round  Wednesday (Start Time: 8:00 AM - End Time:  12...   \n",
      "2  Year Round  Every day (Start Time: 7:00 AM - End Time:  7:...   \n",
      "3  Year Round  Wednesdays (Start Time: 7:30 AM - End Time:  1...   \n",
      "4  Year Round  Saturday (Start Time: 8:00 AM - End Time:  1:0...   \n",
      "\n",
      "                       Notes  \\\n",
      "0  No meat, bones, or dairy.   \n",
      "1                        NaN   \n",
      "2                        NaN   \n",
      "3                        NaN   \n",
      "4                        NaN   \n",
      "\n",
      "                                             Website  BoroCD  ...  Object ID  \\\n",
      "0                                                NaN     310  ...      53721   \n",
      "1                                grownyc.org/compost     106  ...      53581   \n",
      "2  https://hudsonriverpark.org/the-park/sustainab...     104  ...      53549   \n",
      "3                                grownyc.org/compost     105  ...      53542   \n",
      "4                                grownyc.org/compost     101  ...      53454   \n",
      "\n",
      "                 Location Point  App Android  App iOS   Assembly District  \\\n",
      "0  POINT (-74.022767 40.635514)          NaN      NaN                  51   \n",
      "1  POINT (-73.969036 40.752606)          NaN      NaN                  74   \n",
      "2    POINT (-74.00025 40.76346)          NaN      NaN                  67   \n",
      "3     POINT (-73.9693 40.76198)          NaN      NaN                  73   \n",
      "4  POINT (-74.010793 40.717424)          NaN      NaN                  66   \n",
      "\n",
      "    Congress District  DSNY District   DSNY Section DSNY Zone Senate District  \n",
      "0                  10          BKS10         BKS101       BKS              17  \n",
      "1                  12           MN06          MN063        MN              28  \n",
      "2                  12           MN04          MN043        MN              47  \n",
      "3                  12           MN05          MN052        MN              28  \n",
      "4                  10           MN01          MN013        MN              27  \n",
      "\n",
      "[5 rows x 27 columns]\n"
     ]
    }
   ],
   "source": [
    "df = pd.read_csv(\"data/Food_Scrap_Drop-Off_Locations_in_NYC.csv\")\n",
    "print(df.head())"
   ]
  },
  {
   "cell_type": "code",
   "execution_count": 51,
   "id": "acb3a9fd",
   "metadata": {},
   "outputs": [],
   "source": [
    "df[\"text\"] = (\n",
    "    \"Borough: \" + df[\"Borough\"].astype(str)+\n",
    "    \" | Site: \" + df[\"SiteName\"].astype(str) +\n",
    "    \" | SiteAddress: \" + df[\"SiteAddr\"].astype(str) +\n",
    "    \" | OpenMonth: \" + df[\"Open_Month\"].astype(str) +\n",
    "    \" | Location: \" + df[\"Location Point\"].astype(str) +\n",
    "    \" | Hours: \" + df[\"Day_Hours\"].astype(str) +\n",
    "    \" | Notes: \" + df[\"Notes\"].astype(str)\n",
    ")"
   ]
  },
  {
   "cell_type": "code",
   "execution_count": 65,
   "id": "80a9a349",
   "metadata": {},
   "outputs": [
    {
     "name": "stdout",
     "output_type": "stream",
     "text": [
      "Number of rows after cleaning: 591\n",
      "                                                text\n",
      "0  Borough: Brooklyn | Site: 4th Avenue Presbyter...\n",
      "1  Borough: Manhattan | Site: Dag Hammarskjold Pl...\n",
      "2  Borough: Manhattan | Site: Hudson River Park's...\n",
      "3  Borough: Manhattan | Site: 58th Street Library...\n",
      "4  Borough: Manhattan | Site: Tribeca Greenmarket...\n"
     ]
    }
   ],
   "source": [
    "# Keep only the text column\n",
    "df = df[[\"text\"]]\n",
    "\n",
    "# Drop empty characters\n",
    "df = df[df[\"text\"].str.strip() != \"\"].dropna(subset=[\"text\"])\n",
    "\n",
    "# Strip extra whitespace\n",
    "df[\"text\"] = df[\"text\"].str.strip()\n",
    "\n",
    "# Reset index\n",
    "df = df.reset_index(drop=True)\n",
    "\n",
    "# Ensure at least 20 rows\n",
    "print(\"Number of rows after cleaning:\", len(df))\n",
    "print(df.head())\n",
    "\n",
    "# Verify at least 20 rows\n",
    "#print(\"Number of rows:\", len(df))\n",
    "#print(df.head())"
   ]
  },
  {
   "cell_type": "markdown",
   "id": "ae769871",
   "metadata": {},
   "source": [
    "## Custom Query Completion\n",
    "\n",
    "TODO: In the cells below, compose a custom query using your chosen dataset and retrieve results from an OpenAI `Completion` model. You may copy and paste any useful code from the course materials."
   ]
  },
  {
   "cell_type": "code",
   "execution_count": 53,
   "id": "582f0656",
   "metadata": {},
   "outputs": [],
   "source": [
    "import openai\n",
    "openai.api_base = \"https://openai.vocareum.com/v1\"\n",
    "openai.api_key = \"\""
   ]
  },
  {
   "cell_type": "code",
   "execution_count": 56,
   "id": "8b6e1f75",
   "metadata": {},
   "outputs": [
    {
     "name": "stdout",
     "output_type": "stream",
     "text": [
      "Welcome to the NYC Composting Assistant! Type 'exit' to quit.\n",
      "\n",
      "Enter your question: where can i drop off compost in union square\n",
      "\n",
      "Answer: There are several compost drop-off sites in Union Square, including the Union Square Greenmarket and the Union Square Park Recycling Center. These sites are open year round and accept compost every day during their operating hours. However, please note that these sites do not accept meat, bones, or dairy.\n",
      "--------------------------------------------------------------------------------\n",
      "Enter your question: xexit\n",
      "\n",
      "Answer: I'm sorry, I do not understand your question. Can you please clarify or ask a different question?\n",
      "--------------------------------------------------------------------------------\n",
      "Enter your question: exit\n",
      "Goodbye!\n"
     ]
    }
   ],
   "source": [
    "def custom_query(query, df):\n",
    "    context = \" \".join(df[\"text\"].head(3).tolist())\n",
    "    \n",
    "    prompt = f\"\"\"\n",
    "    You are a helpful chatbot. Use the following dataset information if relevant:\n",
    "\n",
    "    {context}\n",
    "\n",
    "    Now answer the user’s question: {query}\n",
    "    \"\"\"\n",
    "    \n",
    "    response = openai.Completion.create(\n",
    "        model=\"gpt-3.5-turbo-instruct\",  \n",
    "        prompt=prompt,\n",
    "        max_tokens=200,\n",
    "        temperature=0.5\n",
    "    )\n",
    "    \n",
    "    return response[\"choices\"][0][\"text\"].strip()\n",
    "\n",
    "print(\"Welcome to the NYC Composting Assistant! Type 'exit' to quit.\\n\")\n",
    "\n",
    "while True:\n",
    "    user_input = input(\"Enter your question: \")\n",
    "    \n",
    "    if user_input.lower() in [\"exit\", \"quit\"]:\n",
    "        print(\"Goodbye!\")\n",
    "        break\n",
    "    \n",
    "    answer = custom_query(user_input, df)\n",
    "    print(\"\\nAnswer:\", answer)\n",
    "    print(\"-\"*80)\n",
    "    \n",
    "# Example\n",
    "#print(custom_query(\"Where can I drop off compost in Brooklyn?\", df))\n"
   ]
  },
  {
   "cell_type": "code",
   "execution_count": 58,
   "id": "13f2dcd7",
   "metadata": {},
   "outputs": [],
   "source": [
    "# ---- Basic Completion (no dataset) ----\n",
    "def basic_query(query):\n",
    "    response = openai.Completion.create(\n",
    "        model=\"gpt-3.5-turbo-instruct\",   # completion model\n",
    "        prompt=query,\n",
    "        max_tokens=200,\n",
    "        temperature=0.5\n",
    "    )\n",
    "    return response[\"choices\"][0][\"text\"].strip()"
   ]
  },
  {
   "cell_type": "code",
   "execution_count": null,
   "id": "c403f543",
   "metadata": {},
   "outputs": [],
   "source": []
  },
  {
   "cell_type": "code",
   "execution_count": null,
   "id": "74280b92",
   "metadata": {},
   "outputs": [],
   "source": []
  },
  {
   "cell_type": "markdown",
   "id": "1783f146",
   "metadata": {},
   "source": [
    "## Custom Performance Demonstration\n",
    "\n",
    "TODO: In the cells below, demonstrate the performance of your custom query using at least 2 questions. For each question, show the answer from a basic `Completion` model query as well as the answer from your custom query."
   ]
  },
  {
   "cell_type": "markdown",
   "id": "4f11fdc0",
   "metadata": {},
   "source": [
    "### Question 1"
   ]
  },
  {
   "cell_type": "code",
   "execution_count": 59,
   "id": "4901c850",
   "metadata": {},
   "outputs": [],
   "source": [
    "questions = [\n",
    "    \"Where can I drop off compost in Brooklyn?\"\n",
    "]"
   ]
  },
  {
   "cell_type": "code",
   "execution_count": 60,
   "id": "bd7a093b",
   "metadata": {},
   "outputs": [
    {
     "name": "stdout",
     "output_type": "stream",
     "text": [
      "================================================================================\n",
      "QUESTION: Where can I drop off compost in Brooklyn?\n",
      "\n"
     ]
    }
   ],
   "source": [
    "for q in questions:\n",
    "    print(\"=\"*80)\n",
    "    print(f\"QUESTION: {q}\\n\")"
   ]
  },
  {
   "cell_type": "code",
   "execution_count": 61,
   "id": "fcf28c44",
   "metadata": {},
   "outputs": [
    {
     "name": "stdout",
     "output_type": "stream",
     "text": [
      "🔹 Basic Completion (no dataset):\n",
      "1. McCarren Park Greenmarket Compost Drop-off: Located at the corner of Driggs Avenue and Lorimer Street, this drop-off site is open on Saturdays from 8am-2pm.\n",
      "\n",
      "2. Brooklyn Borough Hall Greenmarket Compost Drop-off: This drop-off site is open on Saturdays from 8am-2pm, located at the corner of Court Street and Montague Street.\n",
      "\n",
      "3. Red Hook Community Farm Compost Drop-off: This drop-off site is open on Saturdays from 10am-2pm, located at 580 Columbia Street.\n",
      "\n",
      "4. Prospect Park Audubon Center Compost Drop-off: Open on Saturdays from 8am-2pm, this drop-off site is located at 101 East Drive in Prospect Park.\n",
      "\n",
      "5. Brooklyn Botanic Garden Compost Drop-off: This drop-off site is open on Saturdays from 8am-2pm, located at 1000 Washington Avenue.\n",
      "\n",
      "6. Gowanus Canal Conservancy Compost\n",
      "\n",
      "🔹 Custom Completion (with dataset):\n",
      "You can drop off compost in Brooklyn at the 4th Avenue Presbyterian Church located at 6753 4th Avenue. It is open year round and accepts compost every day from dawn until dusk. Please note that they do not accept meat, bones, or dairy.\n"
     ]
    }
   ],
   "source": [
    "print(\"🔹 Basic Completion (no dataset):\")\n",
    "print(basic_query(q))\n",
    "print(\"\\n🔹 Custom Completion (with dataset):\")\n",
    "print(custom_query(q, df))"
   ]
  },
  {
   "cell_type": "markdown",
   "id": "6e86e37c",
   "metadata": {},
   "source": [
    "### Question 2"
   ]
  },
  {
   "cell_type": "code",
   "execution_count": 62,
   "id": "6f646989",
   "metadata": {},
   "outputs": [],
   "source": [
    "questions = [\n",
    "    \"What are the hours for the East New York drop-off site?\"\n",
    "]"
   ]
  },
  {
   "cell_type": "code",
   "execution_count": 63,
   "id": "11c07a54",
   "metadata": {},
   "outputs": [
    {
     "name": "stdout",
     "output_type": "stream",
     "text": [
      "================================================================================\n",
      "QUESTION: What are the hours for the East New York drop-off site?\n",
      "\n"
     ]
    }
   ],
   "source": [
    "for q in questions:\n",
    "    print(\"=\"*80)\n",
    "    print(f\"QUESTION: {q}\\n\")"
   ]
  },
  {
   "cell_type": "code",
   "execution_count": 64,
   "id": "4461aa29",
   "metadata": {},
   "outputs": [
    {
     "name": "stdout",
     "output_type": "stream",
     "text": [
      "🔹 Basic Completion (no dataset):\n",
      "The hours for the East New York drop-off site vary depending on the specific location. It is best to contact the site directly or check their website for their hours of operation.\n",
      "\n",
      "🔹 Custom Completion (with dataset):\n",
      "The East New York drop-off site, located at 4th Avenue Presbyterian Church, is open year round from dawn until dusk every day.\n"
     ]
    }
   ],
   "source": [
    "print(\"🔹 Basic Completion (no dataset):\")\n",
    "print(basic_query(q))\n",
    "print(\"\\n🔹 Custom Completion (with dataset):\")\n",
    "print(custom_query(q, df))"
   ]
  },
  {
   "cell_type": "code",
   "execution_count": null,
   "id": "60cddf59",
   "metadata": {},
   "outputs": [],
   "source": []
  }
 ],
 "metadata": {
  "kernelspec": {
   "display_name": "Python 3 (ipykernel)",
   "language": "python",
   "name": "python3"
  },
  "language_info": {
   "codemirror_mode": {
    "name": "ipython",
    "version": 3
   },
   "file_extension": ".py",
   "mimetype": "text/x-python",
   "name": "python",
   "nbconvert_exporter": "python",
   "pygments_lexer": "ipython3",
   "version": "3.9.18"
  }
 },
 "nbformat": 4,
 "nbformat_minor": 5
}
